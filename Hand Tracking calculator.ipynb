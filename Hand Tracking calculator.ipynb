{
 "cells": [
  {
   "cell_type": "code",
   "execution_count": 1,
   "id": "1df86107-28cb-473b-92cd-80ec59bddd7c",
   "metadata": {},
   "outputs": [],
   "source": [
    "import cv2\n",
    "import mediapipe as mp\n",
    "mpHands = mp.solutions.hands "
   ]
  },
  {
   "cell_type": "code",
   "execution_count": 2,
   "id": "a2369027-4a74-4554-8a30-04b7c58dce22",
   "metadata": {},
   "outputs": [],
   "source": [
    "hands=mpHands.Hands()\n",
    "mpDraw=mp.solutions.drawing_utils"
   ]
  },
  {
   "cell_type": "code",
   "execution_count": 3,
   "id": "f4797dcd-abef-4029-93c3-fda4ea41fa3e",
   "metadata": {},
   "outputs": [],
   "source": [
    "cam=cv2.VideoCapture(0)"
   ]
  },
  {
   "cell_type": "code",
   "execution_count": 4,
   "id": "041c231b-bec1-4a5f-a942-420f48d049d8",
   "metadata": {},
   "outputs": [
    {
     "ename": "error",
     "evalue": "OpenCV(4.11.0) D:\\a\\opencv-python\\opencv-python\\opencv\\modules\\imgproc\\src\\color.cpp:199: error: (-215:Assertion failed) !_src.empty() in function 'cv::cvtColor'\n",
     "output_type": "error",
     "traceback": [
      "\u001b[1;31m---------------------------------------------------------------------------\u001b[0m",
      "\u001b[1;31merror\u001b[0m                                     Traceback (most recent call last)",
      "Cell \u001b[1;32mIn[4], line 12\u001b[0m\n\u001b[0;32m     10\u001b[0m success, img \u001b[38;5;241m=\u001b[39m cam\u001b[38;5;241m.\u001b[39mread()\n\u001b[0;32m     11\u001b[0m imgg \u001b[38;5;241m=\u001b[39m cv2\u001b[38;5;241m.\u001b[39mflip(img, \u001b[38;5;241m1\u001b[39m)\n\u001b[1;32m---> 12\u001b[0m imgRGB \u001b[38;5;241m=\u001b[39m cv2\u001b[38;5;241m.\u001b[39mcvtColor(imgg, cv2\u001b[38;5;241m.\u001b[39mCOLOR_BGR2RGB)\n\u001b[0;32m     13\u001b[0m results \u001b[38;5;241m=\u001b[39m hands\u001b[38;5;241m.\u001b[39mprocess(imgRGB)\n\u001b[0;32m     15\u001b[0m \u001b[38;5;28;01mif\u001b[39;00m results\u001b[38;5;241m.\u001b[39mmulti_hand_landmarks:\n",
      "\u001b[1;31merror\u001b[0m: OpenCV(4.11.0) D:\\a\\opencv-python\\opencv-python\\opencv\\modules\\imgproc\\src\\color.cpp:199: error: (-215:Assertion failed) !_src.empty() in function 'cv::cvtColor'\n"
     ]
    }
   ],
   "source": [
    "x = []\n",
    "y = []\n",
    "text = \"\"\n",
    "k = [0,0,0,0,0,0,0,0,0,0,0,0,0,0,0,0]  \n",
    "\n",
    "idset = [\"\", \"1\", \"12\", \"123\", \"1234\", \"0\", \"01\", \"012\", \"0123\", \"04\", \"01234\", \"4\", \"34\", \"014\", \"14\", \"234\"]\n",
    "op = [\"\", \"1\", \"2\", \"3\", \"4\", \"5\", \"6\", \"7\", \"8\", \"9\", \"0\", \"+\", \"-\", \"*\", \"/\", \"=\"]\n",
    "\n",
    "while True:\n",
    "    success, img = cam.read()\n",
    "    imgg = cv2.flip(img, 1)\n",
    "    imgRGB = cv2.cvtColor(imgg, cv2.COLOR_BGR2RGB)\n",
    "    results = hands.process(imgRGB)\n",
    "\n",
    "    if results.multi_hand_landmarks:\n",
    "        for handLms in results.multi_hand_landmarks:\n",
    "            for idx, lm in enumerate(handLms.landmark):\n",
    "                h, w, c = imgg.shape\n",
    "                if idx == 0:\n",
    "                    x = []\n",
    "                    y = []\n",
    "                x.append(int(lm.x * w))\n",
    "                y.append(int((1 - lm.y) * h))\n",
    "\n",
    "                if len(y) > 20:\n",
    "                    gesture_id = \"\"\n",
    "                    tip = [x[3], y[8], y[12], y[16], y[20]]\n",
    "                    joint = [x[4], y[6], y[10], y[14], y[18]]\n",
    "\n",
    "                    for i in range(len(tip)):\n",
    "                        if tip[i] > joint[i]:\n",
    "                            gesture_id += str(i)\n",
    "\n",
    "                    if gesture_id in idset:\n",
    "                        idx2 = idset.index(gesture_id)\n",
    "                        k[idx2] += 1\n",
    "\n",
    "                        for i in range(len(k)):\n",
    "                            if k[i] > 20:\n",
    "                                if i == 15:  \n",
    "                                    try:\n",
    "                                        ans = str(eval(text))\n",
    "                                    except Exception:\n",
    "                                        ans = \"Error\"\n",
    "                                    text = \"=\" + ans\n",
    "                                    for j in range(len(k)):\n",
    "                                        k[j] = 0\n",
    "                                else:\n",
    "                                    text += op[i]\n",
    "                                    for j in range(len(k)):\n",
    "                                        k[j] = 0\n",
    "                    else:\n",
    "                        for j in range(len(k)):\n",
    "                            k[j] = 0\n",
    "\n",
    "            cv2.putText(imgg, text, (60, 80), cv2.FONT_HERSHEY_PLAIN, 3, (0, 0, 0), 5)\n",
    "            mpDraw.draw_landmarks(imgg, handLms, mpHands.HAND_CONNECTIONS)\n",
    "    else:\n",
    "        text = \" \"\n",
    "\n",
    "    cv2.imshow(\"WebCam\", imgg)\n",
    "    cv2.waitKey(1)"
   ]
  }
 ],
 "metadata": {
  "kernelspec": {
   "display_name": "Python [conda env:base] *",
   "language": "python",
   "name": "conda-base-py"
  },
  "language_info": {
   "codemirror_mode": {
    "name": "ipython",
    "version": 3
   },
   "file_extension": ".py",
   "mimetype": "text/x-python",
   "name": "python",
   "nbconvert_exporter": "python",
   "pygments_lexer": "ipython3",
   "version": "3.12.7"
  }
 },
 "nbformat": 4,
 "nbformat_minor": 5
}
